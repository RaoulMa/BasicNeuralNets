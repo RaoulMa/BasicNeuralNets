{
 "cells": [
  {
   "cell_type": "markdown",
   "metadata": {},
   "source": [
    "**Author:** Raoul Malm  \n",
    "**Description:** Basic example to show that parallel computation with OpenCL in Python can be much faster than the corresponding sequential computation."
   ]
  },
  {
   "cell_type": "code",
   "execution_count": 41,
   "metadata": {},
   "outputs": [
    {
     "name": "stdout",
     "output_type": "stream",
     "text": [
      "computation time:  0:00:02.802909\n",
      "Number1: [ 21 291 142 ...,   3 201 968]\n",
      "Number2: [776 221 609 ..., 697 675 463]\n"
     ]
    }
   ],
   "source": [
    "import pyopencl as cl\n",
    "import numpy as np\n",
    "from datetime import datetime\n",
    "\n",
    "start = datetime.now();\n",
    "\n",
    "# create some data array to give as input to Kernel and get output\n",
    "array_size = 100000000;\n",
    "num1 = np.array(np.random.randint(1000, size=array_size), dtype=np.int32)\n",
    "num2 = np.array(np.random.randint(1000, size=array_size), dtype=np.int32)\n",
    "print('computation time: ', datetime.now()-start)\n",
    "print(\"Number1:\", num1)\n",
    "print(\"Number2:\", num2)"
   ]
  },
  {
   "cell_type": "code",
   "execution_count": 42,
   "metadata": {},
   "outputs": [
    {
     "name": "stdout",
     "output_type": "stream",
     "text": [
      "computation time:  0:01:36.485914\n",
      "Output : [ 602617  133522  391045 ...,  485818  496026 1151393]\n"
     ]
    }
   ],
   "source": [
    "## sequential computation\n",
    "\n",
    "start = datetime.now();\n",
    "\n",
    "# output array\n",
    "out = np.empty(num1.shape, dtype=np.int32)\n",
    "for i in range(num1.shape[0]):\n",
    "    out[i] = num1[i]*num1[i] + num2[i]*num2[i];\n",
    "\n",
    "print('computation time: ', datetime.now()-start)\n",
    "print(\"Output :\", out)"
   ]
  },
  {
   "cell_type": "code",
   "execution_count": 44,
   "metadata": {},
   "outputs": [
    {
     "name": "stdout",
     "output_type": "stream",
     "text": [
      "computation time:  0:00:00.685827\n",
      "Output : [ 602617  133522  391045 ...,  485818  496026 1151393]\n"
     ]
    }
   ],
   "source": [
    "## parallel computation\n",
    "\n",
    "start = datetime.now();\n",
    "\n",
    "# output array\n",
    "out = np.empty(num1.shape, dtype=np.int32)\n",
    "\n",
    "# create context and command queue\n",
    "context = cl.create_some_context()  \n",
    "queue = cl.CommandQueue(context) \n",
    "\n",
    "# create the buffers to hold the values of the input\n",
    "num1_buf = cl.Buffer(context, cl.mem_flags.READ_ONLY | cl.mem_flags.COPY_HOST_PTR,hostbuf=num1)\n",
    "num2_buf = cl.Buffer(context, cl.mem_flags.READ_ONLY | cl.mem_flags.COPY_HOST_PTR,hostbuf=num2)\n",
    "\n",
    "# create output buffer\n",
    "out_buf = cl.Buffer(context, cl.mem_flags.WRITE_ONLY, out.nbytes)\n",
    "\n",
    "# kernel program\n",
    "code = \"\"\"\n",
    "__kernel void frst_prog(__global int* num1, __global int* num2,__global int* out) \n",
    "{\n",
    "    int i = get_global_id(0);\n",
    "    out[i] = num1[i]*num1[i] + num2[i]*num2[i];\n",
    "}\n",
    "\"\"\"\n",
    "\n",
    "# build and launch the Kernel\n",
    "bld = cl.Program(context, code).build()\n",
    "launch = bld.frst_prog(queue, num1.shape, None, num1_buf, num2_buf, out_buf)\n",
    "launch.wait() # wait till the process completes\n",
    "\n",
    "# copy the output from the context to the Python process\n",
    "cl.enqueue_copy(queue, out, out_buf)\n",
    "\n",
    "print('computation time: ', datetime.now()-start)\n",
    "\n",
    "# print the output\n",
    "print(\"Output :\", out)"
   ]
  }
 ],
 "metadata": {
  "kernelspec": {
   "display_name": "Python 3",
   "language": "python",
   "name": "python3"
  },
  "language_info": {
   "codemirror_mode": {
    "name": "ipython",
    "version": 3
   },
   "file_extension": ".py",
   "mimetype": "text/x-python",
   "name": "python",
   "nbconvert_exporter": "python",
   "pygments_lexer": "ipython3",
   "version": "3.6.1"
  }
 },
 "nbformat": 4,
 "nbformat_minor": 2
}
