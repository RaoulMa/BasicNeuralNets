{
 "cells": [
  {
   "cell_type": "code",
   "execution_count": 14,
   "metadata": {},
   "outputs": [
    {
     "name": "stdout",
     "output_type": "stream",
     "text": [
      "Tensorflow version 1.4.1\n",
      "Python version 3.6.5 |Anaconda custom (64-bit)| (default, Mar 29 2018, 13:14:23) \n",
      "[GCC 4.2.1 Compatible Clang 4.0.1 (tags/RELEASE_401/final)]\n",
      "train data shapes:  (2000, 1) (2000, 2)\n",
      "test data shapes:  (20, 1) (20, 2)\n"
     ]
    },
    {
     "data": {
      "image/png": "[encoded data removed]",
      "text/plain": [
       "<Figure size 432x288 with 1 Axes>"
      ]
     },
     "metadata": {},
     "output_type": "display_data"
    }
   ],
   "source": [
    "\"\"\"\n",
    "Author: Raoul Malm\n",
    "Description: Implementing a multilayer perceptron in Tensorflow.\n",
    "\"\"\"\n",
    "\n",
    "import tensorflow as tf\n",
    "import numpy as np\n",
    "import sys\n",
    "import matplotlib.pyplot as plt\n",
    "%matplotlib inline\n",
    "\n",
    "# print current python and tensorflow versions\n",
    "print('Tensorflow version', tf.__version__)\n",
    "print('Python version', sys.version)\n",
    "\n",
    "# convert class labels from scalars to one-hot vectors e.g. 1 => [0 1 0 0 0 0 0 0 0 0]\n",
    "def dense_to_one_hot(labels_dense, num_classes):\n",
    "    num_labels = labels_dense.shape[0]\n",
    "    index_offset = np.arange(num_labels) * num_classes\n",
    "    labels_one_hot = np.zeros((num_labels, num_classes))\n",
    "    labels_one_hot.flat[index_offset + labels_dense.ravel()] = 1\n",
    "    return labels_one_hot\n",
    "\n",
    "# convert one-hot encodings into labels\n",
    "def one_hot_to_dense(labels_one_hot):\n",
    "    return np.argmax(labels_one_hot,1)\n",
    "\n",
    "# number of training and test samples\n",
    "n_train = 1000 # train samples per class\n",
    "n_test = 10 # test samples per class\n",
    "n_classes = 2  \n",
    "r_seed = 123\n",
    "n_hid_1 = 10\n",
    "\n",
    "# create distinct classes\n",
    "np.random.seed(r_seed)\n",
    "tf.set_random_seed(r_seed)\n",
    "\n",
    "# create training set\n",
    "x_train = np.reshape(np.concatenate([np.random.normal(-1,1,n_train), np.random.normal(1,1,n_train)]),(-1,1))\n",
    "y_train = np.concatenate([np.array([0]*n_train), np.array([1]*n_train)])\n",
    "\n",
    "# create test set\n",
    "x_test = np.reshape(np.concatenate([np.random.normal(-1,1,n_test), np.random.normal(1,1,n_test)]),(-1,1))\n",
    "y_test = np.concatenate([np.array([0]*n_test), np.array([1]*n_test)])\n",
    "\n",
    "# randomize training and test data\n",
    "ids = np.arange(len(x_train))\n",
    "np.random.shuffle(ids)\n",
    "x_train = x_train[ids]\n",
    "y_train = y_train[ids]\n",
    "\n",
    "ids = np.arange(len(x_test))\n",
    "np.random.shuffle(ids)\n",
    "x_test = x_test[ids]\n",
    "y_test = y_test[ids]\n",
    "\n",
    "# one-hot-encoding\n",
    "y_train = dense_to_one_hot(y_train, n_classes)\n",
    "y_test = dense_to_one_hot(y_test, n_classes)\n",
    "\n",
    "print('train data shapes: ', x_train.shape, y_train.shape)\n",
    "print('test data shapes: ', x_test.shape, y_test.shape)\n",
    "\n",
    "# visualize training data\n",
    "bins = np.linspace(-4, 4, 50)\n",
    "plt.hist([[x for i,x in enumerate(x_train[:,0]) if y_train[i,0]==1],\n",
    "         [x for i,x in enumerate(x_train[:,0]) if y_train[i,1]==1]], \n",
    "         bins=bins, alpha=0.5, label=['class 0', 'class 1'])\n",
    "plt.legend(loc='upper right')\n",
    "plt.show()"
   ]
  },
  {
   "cell_type": "code",
   "execution_count": 17,
   "metadata": {},
   "outputs": [
    {
     "ename": "ValueError",
     "evalue": "Cannot feed value of shape (20, 2) for Tensor 'y_tf_2:0', which has shape '(?, 1)'",
     "output_type": "error",
     "traceback": [
      "\u001b[0;31m---------------------------------------------------------------------------\u001b[0m",
      "\u001b[0;31mValueError\u001b[0m                                Traceback (most recent call last)",
      "\u001b[0;32m<ipython-input-17-2a08c8a8fe74>\u001b[0m in \u001b[0;36m<module>\u001b[0;34m()\u001b[0m\n\u001b[1;32m     16\u001b[0m     \u001b[0msess\u001b[0m\u001b[0;34m.\u001b[0m\u001b[0mrun\u001b[0m\u001b[0;34m(\u001b[0m\u001b[0mtf\u001b[0m\u001b[0;34m.\u001b[0m\u001b[0mglobal_variables_initializer\u001b[0m\u001b[0;34m(\u001b[0m\u001b[0;34m)\u001b[0m\u001b[0;34m)\u001b[0m\u001b[0;34m\u001b[0m\u001b[0m\n\u001b[1;32m     17\u001b[0m \u001b[0;34m\u001b[0m\u001b[0m\n\u001b[0;32m---> 18\u001b[0;31m     \u001b[0ma1\u001b[0m \u001b[0;34m=\u001b[0m \u001b[0msess\u001b[0m\u001b[0;34m.\u001b[0m\u001b[0mrun\u001b[0m\u001b[0;34m(\u001b[0m\u001b[0ma1_tf\u001b[0m\u001b[0;34m,\u001b[0m \u001b[0mfeed_dict\u001b[0m\u001b[0;34m=\u001b[0m\u001b[0;34m{\u001b[0m\u001b[0mx_data_tf\u001b[0m\u001b[0;34m:\u001b[0m\u001b[0mx_test\u001b[0m\u001b[0;34m,\u001b[0m \u001b[0my_data_tf\u001b[0m\u001b[0;34m:\u001b[0m\u001b[0my_test\u001b[0m\u001b[0;34m}\u001b[0m\u001b[0;34m)\u001b[0m\u001b[0;34m\u001b[0m\u001b[0m\n\u001b[0m\u001b[1;32m     19\u001b[0m     \u001b[0mprint\u001b[0m\u001b[0;34m(\u001b[0m\u001b[0ma1\u001b[0m\u001b[0;34m.\u001b[0m\u001b[0mshape\u001b[0m\u001b[0;34m)\u001b[0m\u001b[0;34m\u001b[0m\u001b[0m\n\u001b[1;32m     20\u001b[0m \u001b[0;34m\u001b[0m\u001b[0m\n",
      "\u001b[0;32m~/anaconda/lib/python3.6/site-packages/tensorflow/python/client/session.py\u001b[0m in \u001b[0;36mrun\u001b[0;34m(self, fetches, feed_dict, options, run_metadata)\u001b[0m\n\u001b[1;32m    887\u001b[0m     \u001b[0;32mtry\u001b[0m\u001b[0;34m:\u001b[0m\u001b[0;34m\u001b[0m\u001b[0m\n\u001b[1;32m    888\u001b[0m       result = self._run(None, fetches, feed_dict, options_ptr,\n\u001b[0;32m--> 889\u001b[0;31m                          run_metadata_ptr)\n\u001b[0m\u001b[1;32m    890\u001b[0m       \u001b[0;32mif\u001b[0m \u001b[0mrun_metadata\u001b[0m\u001b[0;34m:\u001b[0m\u001b[0;34m\u001b[0m\u001b[0m\n\u001b[1;32m    891\u001b[0m         \u001b[0mproto_data\u001b[0m \u001b[0;34m=\u001b[0m \u001b[0mtf_session\u001b[0m\u001b[0;34m.\u001b[0m\u001b[0mTF_GetBuffer\u001b[0m\u001b[0;34m(\u001b[0m\u001b[0mrun_metadata_ptr\u001b[0m\u001b[0;34m)\u001b[0m\u001b[0;34m\u001b[0m\u001b[0m\n",
      "\u001b[0;32m~/anaconda/lib/python3.6/site-packages/tensorflow/python/client/session.py\u001b[0m in \u001b[0;36m_run\u001b[0;34m(self, handle, fetches, feed_dict, options, run_metadata)\u001b[0m\n\u001b[1;32m   1094\u001b[0m                 \u001b[0;34m'Cannot feed value of shape %r for Tensor %r, '\u001b[0m\u001b[0;34m\u001b[0m\u001b[0m\n\u001b[1;32m   1095\u001b[0m                 \u001b[0;34m'which has shape %r'\u001b[0m\u001b[0;34m\u001b[0m\u001b[0m\n\u001b[0;32m-> 1096\u001b[0;31m                 % (np_val.shape, subfeed_t.name, str(subfeed_t.get_shape())))\n\u001b[0m\u001b[1;32m   1097\u001b[0m           \u001b[0;32mif\u001b[0m \u001b[0;32mnot\u001b[0m \u001b[0mself\u001b[0m\u001b[0;34m.\u001b[0m\u001b[0mgraph\u001b[0m\u001b[0;34m.\u001b[0m\u001b[0mis_feedable\u001b[0m\u001b[0;34m(\u001b[0m\u001b[0msubfeed_t\u001b[0m\u001b[0;34m)\u001b[0m\u001b[0;34m:\u001b[0m\u001b[0;34m\u001b[0m\u001b[0m\n\u001b[1;32m   1098\u001b[0m             \u001b[0;32mraise\u001b[0m \u001b[0mValueError\u001b[0m\u001b[0;34m(\u001b[0m\u001b[0;34m'Tensor %s may not be fed.'\u001b[0m \u001b[0;34m%\u001b[0m \u001b[0msubfeed_t\u001b[0m\u001b[0;34m)\u001b[0m\u001b[0;34m\u001b[0m\u001b[0m\n",
      "\u001b[0;31mValueError\u001b[0m: Cannot feed value of shape (20, 2) for Tensor 'y_tf_2:0', which has shape '(?, 1)'"
     ]
    }
   ],
   "source": [
    "x_data_tf = tf.placeholder(tf.float32, [None, n_classes], 'x_tf')\n",
    "y_data_tf = tf.placeholder(tf.int32, [None, n_classes], 'y_tf')\n",
    "\n",
    "w1_tf = tf.Variable(tf.random_normal([n_dims,n_hid_1]), 'w1_tf')\n",
    "b1_tf = tf.Variable(tf.random_normal([n_hid_1]), 'b1_tf')\n",
    "z1_tf = tf.add(tf.matmul(x_data_tf, w1_tf), b1_tf, 'z1_tf')\n",
    "a1_tf = tf.nn.relu(z1_tf, 'a1_tf')\n",
    "\n",
    "w2_tf = tf.Variable(tf.random_normal([n_hid_1,n_classes]), 'w2_tf')\n",
    "b2_tf = tf.Variable(tf.random_normal([n_classes]), 'b2_tf')\n",
    "z2_tf = tf.add(tf.matmul(a1_tf, w2_tf), b2_tf, 'z2_tf')\n",
    "\n",
    "#y_tf = tf.nn.softmax(z2_tf, 'y_tf')\n",
    "    \n",
    "with tf.Session() as sess:\n",
    "    sess.run(tf.global_variables_initializer())\n",
    "    \n",
    "    a1 = sess.run(a1_tf, feed_dict={x_data_tf:x_test, y_data_tf:y_test})\n",
    "    print(a1.shape)\n",
    "    "
   ]
  },
  {
   "cell_type": "code",
   "execution_count": null,
   "metadata": {},
   "outputs": [],
   "source": []
  },
  {
   "cell_type": "code",
   "execution_count": null,
   "metadata": {},
   "outputs": [],
   "source": []
  }
 ],
 "metadata": {
  "kernelspec": {
   "display_name": "Python 3",
   "language": "python",
   "name": "python3"
  },
  "language_info": {
   "codemirror_mode": {
    "name": "ipython",
    "version": 3
   },
   "file_extension": ".py",
   "mimetype": "text/x-python",
   "name": "python",
   "nbconvert_exporter": "python",
   "pygments_lexer": "ipython3",
   "version": "3.6.5"
  }
 },
 "nbformat": 4,
 "nbformat_minor": 2
}
